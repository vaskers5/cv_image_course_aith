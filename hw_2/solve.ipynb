{
 "cells": [
  {
   "cell_type": "code",
   "execution_count": 1,
   "metadata": {},
   "outputs": [
    {
     "name": "stdout",
     "output_type": "stream",
     "text": [
      "pid 1379189's current affinity list: 0-79\n",
      "pid 1379189's new affinity list: 0-12\n"
     ]
    }
   ],
   "source": [
    "import os\n",
    "os.environ[\"CUDA_VISIBLE_DEVICES\"] = \"0\"\n",
    "desired_cpu_cores = \"0-12\"\n",
    "pid = os.getpid()\n",
    "os.system(f\"taskset -p -c {desired_cpu_cores} {pid}\")\n",
    "\n",
    "import torch\n",
    "import matplotlib.pyplot as plt\n",
    "from torch.utils.data import Dataset, DataLoader\n",
    "from torchvision import transforms\n",
    "from tqdm.auto import tqdm\n",
    "import aim\n",
    "\n",
    "from library.dataset import TrainDataset, TestDataset, ImageDataset\n",
    "from library.model import VectorQuantizer, VQVAE, EnhancedVQVAE\n",
    "from library.trainer import AdvancedTrainer\n",
    "from library.threshold import ThresholdOptimizer\n",
    "from library.evaluator import Evaluator\n",
    "\n",
    "def run_experiment(\n",
    "    optimizer_class=torch.optim.AdamW,\n",
    "    optimizer_kwargs=None,\n",
    "    model_class=EnhancedVQVAE,\n",
    "    epochs=5,\n",
    "    fine_tune_epochs=1,\n",
    "    batch_size=512,\n",
    "    use_perceptual=True,\n",
    "    image_size=128,\n",
    "):\n",
    "    # Set up Aim run and log hyperparameters\n",
    "    run = aim.Run()\n",
    "    if optimizer_kwargs is None:\n",
    "        optimizer_kwargs = {'lr': 1e-4, 'weight_decay': 1e-5}\n",
    "    hparams = {\n",
    "        \"optimizer_class\": optimizer_class.__name__,\n",
    "        **optimizer_kwargs,\n",
    "        \"model_class\": model_class.__name__,\n",
    "        \"epochs\": epochs,\n",
    "        \"fine_tune_epochs\": fine_tune_epochs,\n",
    "        \"batch_size\": batch_size,\n",
    "        \"use_perceptual\": use_perceptual,\n",
    "        \"image_size\": image_size,\n",
    "    }\n",
    "    run[\"hparams\"] = hparams\n",
    "\n",
    "    # Device setup\n",
    "    DEVICE = torch.device(\"cuda\" if torch.cuda.is_available() else \"cpu\")\n",
    "\n",
    "    # Define transforms\n",
    "    transform = transforms.Compose([\n",
    "        transforms.Resize((image_size, image_size)),\n",
    "        transforms.ToTensor(),\n",
    "        transforms.Normalize(mean=[0.5, 0.5, 0.5], std=[0.5, 0.5, 0.5]),\n",
    "    ])\n",
    "\n",
    "    # Load datasets\n",
    "    train_dir = \"dataset/train\"\n",
    "    proliv_dir = \"dataset/proliv\"\n",
    "    test_dir = \"dataset/test/imgs\"\n",
    "    annotation_path = \"dataset/test/test_annotation.txt\"\n",
    "\n",
    "    train_dataset = TrainDataset(train_dir, transform=transform)\n",
    "    train_loader = DataLoader(train_dataset, batch_size=batch_size, shuffle=True, num_workers=0)\n",
    "    proliv_dataset = ImageDataset(proliv_dir, transform=transform)\n",
    "    proliv_loader = DataLoader(proliv_dataset, batch_size=batch_size, shuffle=False, num_workers=0)\n",
    "\n",
    "    # Split datasets\n",
    "    normal_train, normal_val = torch.utils.data.random_split(train_dataset, [0.8, 0.2])\n",
    "    val_dataset = torch.utils.data.ConcatDataset([normal_val, proliv_dataset])\n",
    "    val_loader = DataLoader(val_dataset, batch_size=batch_size, shuffle=False, num_workers=0)\n",
    "\n",
    "    # Initialize model and optimizer\n",
    "    model = model_class().to(DEVICE)\n",
    "    optimizer = optimizer_class(model.parameters(), **optimizer_kwargs)\n",
    "\n",
    "    # Initialize trainer\n",
    "    trainer = AdvancedTrainer(\n",
    "        model=model,\n",
    "        train_loader=train_loader,\n",
    "        optimizer=optimizer,\n",
    "        device=DEVICE,\n",
    "        val_loader=val_loader,\n",
    "        use_perceptual=use_perceptual,\n",
    "        run=run\n",
    "    )\n",
    "\n",
    "    # Train the model\n",
    "    trainer.train(epochs, fine_tune_epochs=fine_tune_epochs)\n",
    "\n",
    "    # Load the best model\n",
    "    model.load_state_dict(torch.load('final_model.pth')['model_state_dict'])\n",
    "\n",
    "    # Threshold optimization\n",
    "    threshold_optimizer = ThresholdOptimizer(\n",
    "        model,\n",
    "        DataLoader(normal_val, batch_size=batch_size),\n",
    "        DataLoader(proliv_dataset, batch_size=batch_size, num_workers=0),\n",
    "        DEVICE\n",
    "    )\n",
    "    optimal_threshold = threshold_optimizer.find_optimal_threshold()\n",
    "    run.track(optimal_threshold, name='optimal_threshold')\n",
    "\n",
    "    # Evaluation\n",
    "    test_dataset = TestDataset(test_dir, annotation_path, transform=transform)\n",
    "    test_loader = DataLoader(test_dataset, batch_size=batch_size, shuffle=False, num_workers=0)\n",
    "\n",
    "    evaluator = Evaluator(model, DEVICE)\n",
    "    tpr, tnr = evaluator.evaluate(test_loader, optimal_threshold)\n",
    "    train_errors = evaluator.compute_errors(DataLoader(train_dataset, batch_size=batch_size, num_workers=0))\n",
    "    threshold = evaluator.determine_threshold(train_errors, 95)\n",
    "    print(f\"Final TPR: {tpr}, Final TNR: {tnr}\")\n",
    "    run.track(threshold, name='percentile_threshold')\n",
    "    run.track(tpr, name='test_tpr')\n",
    "    run.track(tnr, name='test_tnr')\n",
    "\n",
    "    # Plot reconstructions\n",
    "    # model.eval()\n",
    "    # with torch.no_grad():\n",
    "    #     test_images, _, _ = next(iter(test_loader))\n",
    "    #     test_images = test_images[:10].to(DEVICE)\n",
    "    #     reconstructions, _ = model(test_images)\n",
    "\n",
    "    # plt.figure(figsize=(16, 4))\n",
    "    # for i in range(10):\n",
    "    #     plt.subplot(2, 10, i + 1)\n",
    "    #     img = test_images[i].cpu().permute(1, 2, 0).numpy() * 0.5 + 0.5\n",
    "    #     plt.imshow(img)\n",
    "    #     plt.axis('off')\n",
    "    #     plt.subplot(2, 10, i + 11)\n",
    "    #     recon = reconstructions[i].cpu().permute(1, 2, 0).numpy() * 0.5 + 0.5\n",
    "    #     plt.imshow(recon)\n",
    "    #     plt.axis('off')\n",
    "    # plt.tight_layout()\n",
    "    # plt.show()\n",
    "\n",
    "    return {\n",
    "        \"optimal_threshold\": optimal_threshold,\n",
    "        \"percentile_threshold\": threshold,\n",
    "        \"test_tpr\": tpr,\n",
    "        \"test_tnr\": tnr,\n",
    "    }\n",
    "\n"
   ]
  },
  {
   "cell_type": "markdown",
   "metadata": {},
   "source": [
    "#### SGD Optimizer"
   ]
  },
  {
   "cell_type": "code",
   "execution_count": 2,
   "metadata": {},
   "outputs": [
    {
     "name": "stderr",
     "output_type": "stream",
     "text": [
      "/data/kazanplova/anaconda3/envs/flux_train/lib/python3.11/site-packages/torch/optim/lr_scheduler.py:62: UserWarning: The verbose parameter is deprecated. Please use get_last_lr() to access the learning rate.\n",
      "  warnings.warn(\n"
     ]
    },
    {
     "data": {
      "application/vnd.jupyter.widget-view+json": {
       "model_id": "cf0f7880dfdb4bbd8d3991f8530ebad7",
       "version_major": 2,
       "version_minor": 0
      },
      "text/plain": [
       "  0%|          | 0/40 [00:00<?, ?it/s]"
      ]
     },
     "metadata": {},
     "output_type": "display_data"
    },
    {
     "name": "stdout",
     "output_type": "stream",
     "text": [
      "\n",
      "Saved new best model with val loss 0.0119\n",
      "\n",
      "Epoch 1/10\n",
      "Train Loss: 0.0132 | Val Loss: 0.0119\n"
     ]
    },
    {
     "data": {
      "application/vnd.jupyter.widget-view+json": {
       "model_id": "2c2cdbecc7914ecbab14216ee7bcdf6c",
       "version_major": 2,
       "version_minor": 0
      },
      "text/plain": [
       "  0%|          | 0/40 [00:00<?, ?it/s]"
      ]
     },
     "metadata": {},
     "output_type": "display_data"
    },
    {
     "name": "stdout",
     "output_type": "stream",
     "text": [
      "\n",
      "Saved new best model with val loss 0.0116\n",
      "\n",
      "Epoch 2/10\n",
      "Train Loss: 0.0095 | Val Loss: 0.0116\n"
     ]
    },
    {
     "data": {
      "application/vnd.jupyter.widget-view+json": {
       "model_id": "8e6194d9016e4e29a211ab14ec5aadfe",
       "version_major": 2,
       "version_minor": 0
      },
      "text/plain": [
       "  0%|          | 0/40 [00:00<?, ?it/s]"
      ]
     },
     "metadata": {},
     "output_type": "display_data"
    },
    {
     "name": "stdout",
     "output_type": "stream",
     "text": [
      "\n",
      "Saved new best model with val loss 0.0116\n",
      "\n",
      "Epoch 3/10\n",
      "Train Loss: 0.0095 | Val Loss: 0.0116\n"
     ]
    },
    {
     "data": {
      "application/vnd.jupyter.widget-view+json": {
       "model_id": "a1ceec1075694dfebfbe1b0e15f7222a",
       "version_major": 2,
       "version_minor": 0
      },
      "text/plain": [
       "  0%|          | 0/40 [00:00<?, ?it/s]"
      ]
     },
     "metadata": {},
     "output_type": "display_data"
    },
    {
     "name": "stdout",
     "output_type": "stream",
     "text": [
      "\n",
      "Saved new best model with val loss 0.0115\n",
      "\n",
      "Epoch 4/10\n",
      "Train Loss: 0.0094 | Val Loss: 0.0115\n"
     ]
    },
    {
     "data": {
      "application/vnd.jupyter.widget-view+json": {
       "model_id": "cf7c12388ea14af392cdf3b024d60926",
       "version_major": 2,
       "version_minor": 0
      },
      "text/plain": [
       "  0%|          | 0/40 [00:00<?, ?it/s]"
      ]
     },
     "metadata": {},
     "output_type": "display_data"
    },
    {
     "name": "stdout",
     "output_type": "stream",
     "text": [
      "\n",
      "Saved new best model with val loss 0.0115\n",
      "\n",
      "Epoch 5/10\n",
      "Train Loss: 0.0094 | Val Loss: 0.0115\n"
     ]
    },
    {
     "data": {
      "application/vnd.jupyter.widget-view+json": {
       "model_id": "01ab6b052ade4fd8a5b8e5677de7363e",
       "version_major": 2,
       "version_minor": 0
      },
      "text/plain": [
       "  0%|          | 0/40 [00:00<?, ?it/s]"
      ]
     },
     "metadata": {},
     "output_type": "display_data"
    },
    {
     "name": "stdout",
     "output_type": "stream",
     "text": [
      "\n",
      "Saved new best model with val loss 0.0115\n",
      "\n",
      "Epoch 6/10\n",
      "Train Loss: 0.0094 | Val Loss: 0.0115\n"
     ]
    },
    {
     "data": {
      "application/vnd.jupyter.widget-view+json": {
       "model_id": "74514daf2dec43e394e1e3919ab0ee46",
       "version_major": 2,
       "version_minor": 0
      },
      "text/plain": [
       "  0%|          | 0/40 [00:00<?, ?it/s]"
      ]
     },
     "metadata": {},
     "output_type": "display_data"
    },
    {
     "name": "stdout",
     "output_type": "stream",
     "text": [
      "\n",
      "Saved new best model with val loss 0.0115\n",
      "\n",
      "Epoch 7/10\n",
      "Train Loss: 0.0094 | Val Loss: 0.0115\n"
     ]
    },
    {
     "data": {
      "application/vnd.jupyter.widget-view+json": {
       "model_id": "a6bf4ac043d14ca7bbd3ad8d05196341",
       "version_major": 2,
       "version_minor": 0
      },
      "text/plain": [
       "  0%|          | 0/40 [00:00<?, ?it/s]"
      ]
     },
     "metadata": {},
     "output_type": "display_data"
    },
    {
     "name": "stdout",
     "output_type": "stream",
     "text": [
      "\n",
      "Saved new best model with val loss 0.0115\n",
      "\n",
      "Epoch 8/10\n",
      "Train Loss: 0.0094 | Val Loss: 0.0115\n"
     ]
    },
    {
     "data": {
      "application/vnd.jupyter.widget-view+json": {
       "model_id": "39855bfb0f024e72b8006846d01c91f4",
       "version_major": 2,
       "version_minor": 0
      },
      "text/plain": [
       "  0%|          | 0/40 [00:00<?, ?it/s]"
      ]
     },
     "metadata": {},
     "output_type": "display_data"
    },
    {
     "name": "stdout",
     "output_type": "stream",
     "text": [
      "\n",
      "Saved new best model with val loss 0.0115\n",
      "\n",
      "Epoch 9/10\n",
      "Train Loss: 0.0094 | Val Loss: 0.0115\n"
     ]
    },
    {
     "data": {
      "application/vnd.jupyter.widget-view+json": {
       "model_id": "aa3b3bb7d732450f84c2eccdd16ac68c",
       "version_major": 2,
       "version_minor": 0
      },
      "text/plain": [
       "  0%|          | 0/40 [00:00<?, ?it/s]"
      ]
     },
     "metadata": {},
     "output_type": "display_data"
    },
    {
     "name": "stdout",
     "output_type": "stream",
     "text": [
      "\n",
      "Saved new best model with val loss 0.0115\n",
      "\n",
      "Epoch 10/10\n",
      "Train Loss: 0.0094 | Val Loss: 0.0115\n",
      "\n",
      "Starting fine-tuning on full dataset\n",
      "Loaded best checkpoint with val loss 0.0115\n"
     ]
    },
    {
     "name": "stderr",
     "output_type": "stream",
     "text": [
      "/data/kazanplova/projects/study_projects/cv_image_course_aith/hw_2/library/trainer.py:125: FutureWarning: You are using `torch.load` with `weights_only=False` (the current default value), which uses the default pickle module implicitly. It is possible to construct malicious pickle data which will execute arbitrary code during unpickling (See https://github.com/pytorch/pytorch/blob/main/SECURITY.md#untrusted-models for more details). In a future release, the default value for `weights_only` will be flipped to `True`. This limits the functions that could be executed during unpickling. Arbitrary objects will no longer be allowed to be loaded via this mode unless they are explicitly allowlisted by the user via `torch.serialization.add_safe_globals`. We recommend you start setting `weights_only=True` for any use case where you don't have full control of the loaded file. Please open an issue on GitHub for any issues related to this experimental feature.\n",
      "  checkpoint = torch.load(self.checkpoint_path)\n"
     ]
    },
    {
     "data": {
      "application/vnd.jupyter.widget-view+json": {
       "model_id": "2ea0f3d5cbc54790b1338032eb8f78fc",
       "version_major": 2,
       "version_minor": 0
      },
      "text/plain": [
       "  0%|          | 0/48 [00:00<?, ?it/s]"
      ]
     },
     "metadata": {},
     "output_type": "display_data"
    },
    {
     "name": "stdout",
     "output_type": "stream",
     "text": [
      "\n",
      "Fine-tune Epoch 1/1\n",
      "Train Loss: 0.0096\n",
      "Final model saved to final_model.pth\n"
     ]
    },
    {
     "name": "stderr",
     "output_type": "stream",
     "text": [
      "/tmp/ipykernel_1379189/968451936.py:91: FutureWarning: You are using `torch.load` with `weights_only=False` (the current default value), which uses the default pickle module implicitly. It is possible to construct malicious pickle data which will execute arbitrary code during unpickling (See https://github.com/pytorch/pytorch/blob/main/SECURITY.md#untrusted-models for more details). In a future release, the default value for `weights_only` will be flipped to `True`. This limits the functions that could be executed during unpickling. Arbitrary objects will no longer be allowed to be loaded via this mode unless they are explicitly allowlisted by the user via `torch.serialization.add_safe_globals`. We recommend you start setting `weights_only=True` for any use case where you don't have full control of the loaded file. Please open an issue on GitHub for any issues related to this experimental feature.\n",
      "  model.load_state_dict(torch.load('final_model.pth')['model_state_dict'])\n"
     ]
    },
    {
     "name": "stdout",
     "output_type": "stream",
     "text": [
      "0.032467532467532464 0.992\n",
      "Final TPR: 0.9302325581395349, Final TNR: 0.82537517053206\n"
     ]
    }
   ],
   "source": [
    "results = run_experiment(\n",
    "    optimizer_class=torch.optim.SGD,\n",
    "    optimizer_kwargs={'lr': 0.01, 'momentum': 0.9},\n",
    "    epochs=10,\n",
    "    batch_size=256,\n",
    "    use_perceptual=False\n",
    ")"
   ]
  },
  {
   "cell_type": "markdown",
   "metadata": {},
   "source": [
    "#### SGD optimizer with perceptual"
   ]
  },
  {
   "cell_type": "code",
   "execution_count": 3,
   "metadata": {},
   "outputs": [
    {
     "name": "stderr",
     "output_type": "stream",
     "text": [
      "/data/kazanplova/anaconda3/envs/flux_train/lib/python3.11/site-packages/torchvision/models/_utils.py:208: UserWarning: The parameter 'pretrained' is deprecated since 0.13 and may be removed in the future, please use 'weights' instead.\n",
      "  warnings.warn(\n",
      "/data/kazanplova/anaconda3/envs/flux_train/lib/python3.11/site-packages/torchvision/models/_utils.py:223: UserWarning: Arguments other than a weight enum or `None` for 'weights' are deprecated since 0.13 and may be removed in the future. The current behavior is equivalent to passing `weights=VGG16_Weights.IMAGENET1K_V1`. You can also use `weights=VGG16_Weights.DEFAULT` to get the most up-to-date weights.\n",
      "  warnings.warn(msg)\n"
     ]
    },
    {
     "data": {
      "application/vnd.jupyter.widget-view+json": {
       "model_id": "6d71a2126410421ca5f8f656fd79f4e2",
       "version_major": 2,
       "version_minor": 0
      },
      "text/plain": [
       "  0%|          | 0/40 [00:00<?, ?it/s]"
      ]
     },
     "metadata": {},
     "output_type": "display_data"
    },
    {
     "name": "stdout",
     "output_type": "stream",
     "text": [
      "\n",
      "Saved new best model with val loss 0.0515\n",
      "\n",
      "Epoch 1/10\n",
      "Train Loss: 0.0510 | Val Loss: 0.0515\n"
     ]
    },
    {
     "data": {
      "application/vnd.jupyter.widget-view+json": {
       "model_id": "f98afa5203ae42e6a2a43e9d889b0181",
       "version_major": 2,
       "version_minor": 0
      },
      "text/plain": [
       "  0%|          | 0/40 [00:00<?, ?it/s]"
      ]
     },
     "metadata": {},
     "output_type": "display_data"
    },
    {
     "name": "stdout",
     "output_type": "stream",
     "text": [
      "\n",
      "Saved new best model with val loss 0.0512\n",
      "\n",
      "Epoch 2/10\n",
      "Train Loss: 0.0474 | Val Loss: 0.0512\n"
     ]
    },
    {
     "data": {
      "application/vnd.jupyter.widget-view+json": {
       "model_id": "b7f6bb0a7b0c4d0888f28523aa084db7",
       "version_major": 2,
       "version_minor": 0
      },
      "text/plain": [
       "  0%|          | 0/40 [00:00<?, ?it/s]"
      ]
     },
     "metadata": {},
     "output_type": "display_data"
    },
    {
     "name": "stdout",
     "output_type": "stream",
     "text": [
      "\n",
      "Saved new best model with val loss 0.0510\n",
      "\n",
      "Epoch 3/10\n",
      "Train Loss: 0.0473 | Val Loss: 0.0510\n"
     ]
    },
    {
     "data": {
      "application/vnd.jupyter.widget-view+json": {
       "model_id": "3c763c912153447d84668ca9ed141b3e",
       "version_major": 2,
       "version_minor": 0
      },
      "text/plain": [
       "  0%|          | 0/40 [00:00<?, ?it/s]"
      ]
     },
     "metadata": {},
     "output_type": "display_data"
    },
    {
     "name": "stdout",
     "output_type": "stream",
     "text": [
      "\n",
      "Saved new best model with val loss 0.0510\n",
      "\n",
      "Epoch 4/10\n",
      "Train Loss: 0.0472 | Val Loss: 0.0510\n"
     ]
    },
    {
     "data": {
      "application/vnd.jupyter.widget-view+json": {
       "model_id": "a924195d329a4ade9f292760a2e704f9",
       "version_major": 2,
       "version_minor": 0
      },
      "text/plain": [
       "  0%|          | 0/40 [00:00<?, ?it/s]"
      ]
     },
     "metadata": {},
     "output_type": "display_data"
    },
    {
     "name": "stdout",
     "output_type": "stream",
     "text": [
      "\n",
      "Saved new best model with val loss 0.0509\n",
      "\n",
      "Epoch 5/10\n",
      "Train Loss: 0.0472 | Val Loss: 0.0509\n"
     ]
    },
    {
     "data": {
      "application/vnd.jupyter.widget-view+json": {
       "model_id": "1809b3ffafd74e3995eadefad511c8fd",
       "version_major": 2,
       "version_minor": 0
      },
      "text/plain": [
       "  0%|          | 0/40 [00:00<?, ?it/s]"
      ]
     },
     "metadata": {},
     "output_type": "display_data"
    },
    {
     "name": "stdout",
     "output_type": "stream",
     "text": [
      "\n",
      "Saved new best model with val loss 0.0509\n",
      "\n",
      "Epoch 6/10\n",
      "Train Loss: 0.0470 | Val Loss: 0.0509\n"
     ]
    },
    {
     "data": {
      "application/vnd.jupyter.widget-view+json": {
       "model_id": "39c1ff7638704bffaa9b21cabd2cfb57",
       "version_major": 2,
       "version_minor": 0
      },
      "text/plain": [
       "  0%|          | 0/40 [00:00<?, ?it/s]"
      ]
     },
     "metadata": {},
     "output_type": "display_data"
    },
    {
     "name": "stdout",
     "output_type": "stream",
     "text": [
      "\n",
      "Saved new best model with val loss 0.0508\n",
      "\n",
      "Epoch 7/10\n",
      "Train Loss: 0.0470 | Val Loss: 0.0508\n"
     ]
    },
    {
     "data": {
      "application/vnd.jupyter.widget-view+json": {
       "model_id": "ccb5be5e18ae4d279c00ef2850559bc0",
       "version_major": 2,
       "version_minor": 0
      },
      "text/plain": [
       "  0%|          | 0/40 [00:00<?, ?it/s]"
      ]
     },
     "metadata": {},
     "output_type": "display_data"
    },
    {
     "name": "stdout",
     "output_type": "stream",
     "text": [
      "\n",
      "Saved new best model with val loss 0.0508\n",
      "\n",
      "Epoch 8/10\n",
      "Train Loss: 0.0469 | Val Loss: 0.0508\n"
     ]
    },
    {
     "data": {
      "application/vnd.jupyter.widget-view+json": {
       "model_id": "142597cd89fd4af5b4a22e3202c39c29",
       "version_major": 2,
       "version_minor": 0
      },
      "text/plain": [
       "  0%|          | 0/40 [00:00<?, ?it/s]"
      ]
     },
     "metadata": {},
     "output_type": "display_data"
    },
    {
     "name": "stdout",
     "output_type": "stream",
     "text": [
      "\n",
      "Saved new best model with val loss 0.0507\n",
      "\n",
      "Epoch 9/10\n",
      "Train Loss: 0.0469 | Val Loss: 0.0507\n"
     ]
    },
    {
     "data": {
      "application/vnd.jupyter.widget-view+json": {
       "model_id": "94e5f0718a734ace9494b50b397a7e40",
       "version_major": 2,
       "version_minor": 0
      },
      "text/plain": [
       "  0%|          | 0/40 [00:00<?, ?it/s]"
      ]
     },
     "metadata": {},
     "output_type": "display_data"
    },
    {
     "name": "stdout",
     "output_type": "stream",
     "text": [
      "\n",
      "Saved new best model with val loss 0.0506\n",
      "\n",
      "Epoch 10/10\n",
      "Train Loss: 0.0469 | Val Loss: 0.0506\n",
      "\n",
      "Starting fine-tuning on full dataset\n",
      "Loaded best checkpoint with val loss 0.0506\n"
     ]
    },
    {
     "data": {
      "application/vnd.jupyter.widget-view+json": {
       "model_id": "f110e301ffeb4da8948bf6ff0c9a8538",
       "version_major": 2,
       "version_minor": 0
      },
      "text/plain": [
       "  0%|          | 0/48 [00:00<?, ?it/s]"
      ]
     },
     "metadata": {},
     "output_type": "display_data"
    },
    {
     "name": "stdout",
     "output_type": "stream",
     "text": [
      "\n",
      "Fine-tune Epoch 1/1\n",
      "Train Loss: 0.0470\n",
      "Final model saved to final_model.pth\n"
     ]
    },
    {
     "name": "stderr",
     "output_type": "stream",
     "text": [
      "/tmp/ipykernel_1379189/968451936.py:91: FutureWarning: You are using `torch.load` with `weights_only=False` (the current default value), which uses the default pickle module implicitly. It is possible to construct malicious pickle data which will execute arbitrary code during unpickling (See https://github.com/pytorch/pytorch/blob/main/SECURITY.md#untrusted-models for more details). In a future release, the default value for `weights_only` will be flipped to `True`. This limits the functions that could be executed during unpickling. Arbitrary objects will no longer be allowed to be loaded via this mode unless they are explicitly allowlisted by the user via `torch.serialization.add_safe_globals`. We recommend you start setting `weights_only=True` for any use case where you don't have full control of the loaded file. Please open an issue on GitHub for any issues related to this experimental feature.\n",
      "  model.load_state_dict(torch.load('final_model.pth')['model_state_dict'])\n"
     ]
    },
    {
     "name": "stdout",
     "output_type": "stream",
     "text": [
      "0.045454545454545456 0.9925\n",
      "Final TPR: 0.9302325581395349, Final TNR: 0.7923601637107777\n"
     ]
    }
   ],
   "source": [
    "results = run_experiment(\n",
    "    optimizer_class=torch.optim.SGD,\n",
    "    optimizer_kwargs={'lr': 0.01, 'momentum': 0.9},\n",
    "    epochs=10,\n",
    "    batch_size=256,\n",
    "    use_perceptual=True\n",
    ")"
   ]
  },
  {
   "cell_type": "markdown",
   "metadata": {},
   "source": [
    "#### AdamW optimizer without perceptual"
   ]
  },
  {
   "cell_type": "code",
   "execution_count": 4,
   "metadata": {},
   "outputs": [
    {
     "data": {
      "application/vnd.jupyter.widget-view+json": {
       "model_id": "44744b9356004dc29842eb3c7fc19cdb",
       "version_major": 2,
       "version_minor": 0
      },
      "text/plain": [
       "  0%|          | 0/40 [00:00<?, ?it/s]"
      ]
     },
     "metadata": {},
     "output_type": "display_data"
    },
    {
     "name": "stdout",
     "output_type": "stream",
     "text": [
      "\n",
      "Saved new best model with val loss 0.0117\n",
      "\n",
      "Epoch 1/5\n",
      "Train Loss: 0.0126 | Val Loss: 0.0117\n"
     ]
    },
    {
     "data": {
      "application/vnd.jupyter.widget-view+json": {
       "model_id": "e287d0fa924644c2bfc99063345e3c5b",
       "version_major": 2,
       "version_minor": 0
      },
      "text/plain": [
       "  0%|          | 0/40 [00:00<?, ?it/s]"
      ]
     },
     "metadata": {},
     "output_type": "display_data"
    },
    {
     "name": "stdout",
     "output_type": "stream",
     "text": [
      "\n",
      "Epoch 2/5\n",
      "Train Loss: 0.0186 | Val Loss: 0.0496\n"
     ]
    },
    {
     "data": {
      "application/vnd.jupyter.widget-view+json": {
       "model_id": "258a1c2ff9c14bac8fc0d439dc4cfcbd",
       "version_major": 2,
       "version_minor": 0
      },
      "text/plain": [
       "  0%|          | 0/40 [00:00<?, ?it/s]"
      ]
     },
     "metadata": {},
     "output_type": "display_data"
    },
    {
     "name": "stdout",
     "output_type": "stream",
     "text": [
      "\n",
      "Epoch 3/5\n",
      "Train Loss: 0.0527 | Val Loss: 0.0726\n"
     ]
    },
    {
     "data": {
      "application/vnd.jupyter.widget-view+json": {
       "model_id": "494d4ba86f56495d99e1cf2cb426fc51",
       "version_major": 2,
       "version_minor": 0
      },
      "text/plain": [
       "  0%|          | 0/40 [00:00<?, ?it/s]"
      ]
     },
     "metadata": {},
     "output_type": "display_data"
    },
    {
     "name": "stdout",
     "output_type": "stream",
     "text": [
      "\n",
      "Epoch 4/5\n",
      "Train Loss: 0.0421 | Val Loss: 0.0531\n"
     ]
    },
    {
     "data": {
      "application/vnd.jupyter.widget-view+json": {
       "model_id": "f795889e56984e498b7d7b586fb47a10",
       "version_major": 2,
       "version_minor": 0
      },
      "text/plain": [
       "  0%|          | 0/40 [00:00<?, ?it/s]"
      ]
     },
     "metadata": {},
     "output_type": "display_data"
    },
    {
     "name": "stdout",
     "output_type": "stream",
     "text": [
      "\n",
      "Epoch 5/5\n",
      "Train Loss: 0.0356 | Val Loss: 0.0532\n",
      "\n",
      "Starting fine-tuning on full dataset\n",
      "Loaded best checkpoint with val loss 0.0117\n"
     ]
    },
    {
     "data": {
      "application/vnd.jupyter.widget-view+json": {
       "model_id": "e6bffd6f9b6e4a2d88ba89ff0073fe85",
       "version_major": 2,
       "version_minor": 0
      },
      "text/plain": [
       "  0%|          | 0/48 [00:00<?, ?it/s]"
      ]
     },
     "metadata": {},
     "output_type": "display_data"
    },
    {
     "name": "stdout",
     "output_type": "stream",
     "text": [
      "\n",
      "Fine-tune Epoch 1/1\n",
      "Train Loss: 0.0096\n",
      "Final model saved to final_model.pth\n"
     ]
    },
    {
     "name": "stderr",
     "output_type": "stream",
     "text": [
      "/tmp/ipykernel_1379189/968451936.py:91: FutureWarning: You are using `torch.load` with `weights_only=False` (the current default value), which uses the default pickle module implicitly. It is possible to construct malicious pickle data which will execute arbitrary code during unpickling (See https://github.com/pytorch/pytorch/blob/main/SECURITY.md#untrusted-models for more details). In a future release, the default value for `weights_only` will be flipped to `True`. This limits the functions that could be executed during unpickling. Arbitrary objects will no longer be allowed to be loaded via this mode unless they are explicitly allowlisted by the user via `torch.serialization.add_safe_globals`. We recommend you start setting `weights_only=True` for any use case where you don't have full control of the loaded file. Please open an issue on GitHub for any issues related to this experimental feature.\n",
      "  model.load_state_dict(torch.load('final_model.pth')['model_state_dict'])\n"
     ]
    },
    {
     "name": "stdout",
     "output_type": "stream",
     "text": [
      "0.025974025974025976 0.991\n",
      "Final TPR: 0.9147286821705426, Final TNR: 0.8343792633015007\n"
     ]
    }
   ],
   "source": [
    "results = run_experiment(\n",
    "    optimizer_class=torch.optim.AdamW,\n",
    "    optimizer_kwargs={'lr':1e-4, 'weight_decay': 1e-5},\n",
    "    epochs=5,\n",
    "    batch_size=256,\n",
    "    use_perceptual=False\n",
    ")\n"
   ]
  },
  {
   "cell_type": "markdown",
   "metadata": {},
   "source": [
    "#### AdamW optimizer with perceptual"
   ]
  },
  {
   "cell_type": "code",
   "execution_count": 5,
   "metadata": {},
   "outputs": [
    {
     "data": {
      "application/vnd.jupyter.widget-view+json": {
       "model_id": "f8735bd146074c99b2954534b4fb2d7d",
       "version_major": 2,
       "version_minor": 0
      },
      "text/plain": [
       "  0%|          | 0/40 [00:00<?, ?it/s]"
      ]
     },
     "metadata": {},
     "output_type": "display_data"
    },
    {
     "name": "stdout",
     "output_type": "stream",
     "text": [
      "\n",
      "Saved new best model with val loss 0.0499\n",
      "\n",
      "Epoch 1/5\n",
      "Train Loss: 0.0516 | Val Loss: 0.0499\n"
     ]
    },
    {
     "data": {
      "application/vnd.jupyter.widget-view+json": {
       "model_id": "e3f3d1a00efc4ec3828fcd536d40356e",
       "version_major": 2,
       "version_minor": 0
      },
      "text/plain": [
       "  0%|          | 0/40 [00:00<?, ?it/s]"
      ]
     },
     "metadata": {},
     "output_type": "display_data"
    },
    {
     "name": "stdout",
     "output_type": "stream",
     "text": [
      "\n",
      "Saved new best model with val loss 0.0472\n",
      "\n",
      "Epoch 2/5\n",
      "Train Loss: 0.0444 | Val Loss: 0.0472\n"
     ]
    },
    {
     "data": {
      "application/vnd.jupyter.widget-view+json": {
       "model_id": "1def5470cc4d4950855737c0808bcb74",
       "version_major": 2,
       "version_minor": 0
      },
      "text/plain": [
       "  0%|          | 0/40 [00:00<?, ?it/s]"
      ]
     },
     "metadata": {},
     "output_type": "display_data"
    },
    {
     "name": "stdout",
     "output_type": "stream",
     "text": [
      "\n",
      "Saved new best model with val loss 0.0471\n",
      "\n",
      "Epoch 3/5\n",
      "Train Loss: 0.0434 | Val Loss: 0.0471\n"
     ]
    },
    {
     "data": {
      "application/vnd.jupyter.widget-view+json": {
       "model_id": "d075f180301f40e68cc19cfb8b15de22",
       "version_major": 2,
       "version_minor": 0
      },
      "text/plain": [
       "  0%|          | 0/40 [00:00<?, ?it/s]"
      ]
     },
     "metadata": {},
     "output_type": "display_data"
    },
    {
     "name": "stdout",
     "output_type": "stream",
     "text": [
      "\n",
      "Epoch 4/5\n",
      "Train Loss: 0.0433 | Val Loss: 0.0477\n"
     ]
    },
    {
     "data": {
      "application/vnd.jupyter.widget-view+json": {
       "model_id": "94b1f3ef5cf64a66848953e8d1c32f8a",
       "version_major": 2,
       "version_minor": 0
      },
      "text/plain": [
       "  0%|          | 0/40 [00:00<?, ?it/s]"
      ]
     },
     "metadata": {},
     "output_type": "display_data"
    },
    {
     "name": "stdout",
     "output_type": "stream",
     "text": [
      "\n",
      "Epoch 5/5\n",
      "Train Loss: 0.0567 | Val Loss: 0.1144\n",
      "\n",
      "Starting fine-tuning on full dataset\n",
      "Loaded best checkpoint with val loss 0.0471\n"
     ]
    },
    {
     "data": {
      "application/vnd.jupyter.widget-view+json": {
       "model_id": "4b6f6cb16a504661928c117bf7ba5129",
       "version_major": 2,
       "version_minor": 0
      },
      "text/plain": [
       "  0%|          | 0/48 [00:00<?, ?it/s]"
      ]
     },
     "metadata": {},
     "output_type": "display_data"
    },
    {
     "name": "stdout",
     "output_type": "stream",
     "text": [
      "\n",
      "Fine-tune Epoch 1/1\n",
      "Train Loss: 0.0436\n",
      "Final model saved to final_model.pth\n"
     ]
    },
    {
     "name": "stderr",
     "output_type": "stream",
     "text": [
      "/tmp/ipykernel_1379189/968451936.py:91: FutureWarning: You are using `torch.load` with `weights_only=False` (the current default value), which uses the default pickle module implicitly. It is possible to construct malicious pickle data which will execute arbitrary code during unpickling (See https://github.com/pytorch/pytorch/blob/main/SECURITY.md#untrusted-models for more details). In a future release, the default value for `weights_only` will be flipped to `True`. This limits the functions that could be executed during unpickling. Arbitrary objects will no longer be allowed to be loaded via this mode unless they are explicitly allowlisted by the user via `torch.serialization.add_safe_globals`. We recommend you start setting `weights_only=True` for any use case where you don't have full control of the loaded file. Please open an issue on GitHub for any issues related to this experimental feature.\n",
      "  model.load_state_dict(torch.load('final_model.pth')['model_state_dict'])\n"
     ]
    },
    {
     "name": "stdout",
     "output_type": "stream",
     "text": [
      "0.045454545454545456 0.9925\n",
      "Final TPR: 0.9302325581395349, Final TNR: 0.8057298772169168\n"
     ]
    }
   ],
   "source": [
    "results = run_experiment(\n",
    "    optimizer_class=torch.optim.AdamW,\n",
    "    optimizer_kwargs={'lr':1e-4, 'weight_decay': 1e-5},\n",
    "    epochs=5,\n",
    "    batch_size=256,\n",
    "    use_perceptual=True\n",
    ")\n"
   ]
  },
  {
   "cell_type": "code",
   "execution_count": 6,
   "metadata": {},
   "outputs": [
    {
     "name": "stdout",
     "output_type": "stream",
     "text": [
      "adamw_perc.png\tadamw_simple.png  sgd_perc.png\tsgd_simple.png\n"
     ]
    }
   ],
   "source": [
    "!ls exps"
   ]
  },
  {
   "cell_type": "code",
   "execution_count": null,
   "metadata": {},
   "outputs": [],
   "source": []
  }
 ],
 "metadata": {
  "kernelspec": {
   "display_name": "flux_train",
   "language": "python",
   "name": "python3"
  },
  "language_info": {
   "codemirror_mode": {
    "name": "ipython",
    "version": 3
   },
   "file_extension": ".py",
   "mimetype": "text/x-python",
   "name": "python",
   "nbconvert_exporter": "python",
   "pygments_lexer": "ipython3",
   "version": "3.11.9"
  }
 },
 "nbformat": 4,
 "nbformat_minor": 2
}
